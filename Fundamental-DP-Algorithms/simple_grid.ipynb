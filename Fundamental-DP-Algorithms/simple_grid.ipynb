{
 "cells": [
  {
   "cell_type": "markdown",
   "metadata": {},
   "source": [
    "# Simple 4x4 Grid Example\n",
    "\n",
    "This example is a simple 4x4 grid to get the basic understanding of the environment and the variables in the Markov Decision Processes (MDP)\n"
   ]
  },
  {
   "cell_type": "code",
   "execution_count": 1,
   "metadata": {},
   "outputs": [],
   "source": [
    "import numpy as np"
   ]
  },
  {
   "cell_type": "markdown",
   "metadata": {},
   "source": [
    "The environment has 4 states:\n",
    "\n",
    "$S = \\left\\{ s_0, s_1, s_2, s_3 \\right\\} $\n",
    "\n",
    "The agent only knows how to take this for actions:\n",
    "\n",
    "$A = \\left\\{ a_0(\\uparrow), a_1(\\downarrow), a_2(\\leftarrow), a_3(\\rightarrow) \\right\\} $\n",
    "\n",
    "The transition function is deterministic, and is all zeros except for the allowed transitions, for example, being in $s_0$ and taking action $a_1(\\downarrow)$ will get you to the state $s_2$"
   ]
  },
  {
   "cell_type": "code",
   "execution_count": 3,
   "metadata": {},
   "outputs": [
    {
     "ename": "SyntaxError",
     "evalue": "can't assign to function call (<ipython-input-3-f16b97a4c4b3>, line 8)",
     "output_type": "error",
     "traceback": [
      "\u001b[0;36m  File \u001b[0;32m\"<ipython-input-3-f16b97a4c4b3>\"\u001b[0;36m, line \u001b[0;32m8\u001b[0m\n\u001b[0;31m    T( S[0], A[1], S[2] ) = 1\u001b[0m\n\u001b[0m                             ^\u001b[0m\n\u001b[0;31mSyntaxError\u001b[0m\u001b[0;31m:\u001b[0m can't assign to function call\n"
     ]
    }
   ],
   "source": [
    "S = [0, 1, 2, 3]\n",
    "S_N = len(S)\n",
    "\n",
    "A = [0, 1, 2, 3]\n",
    "A_N = len(A)\n",
    "\n",
    "T = np.zeros((S_N, A_N, S_N))\n",
    "T( S[0], A[1], S[2] ) = 1\n",
    "T( S[0], A[3], S[1] ) = 1\n",
    "\n",
    "T( S[1], A[2], S[0] ) = 1\n",
    "T( S[1], A[1], S[3] ) = 1\n",
    "\n",
    "T( S[2], A[0], S[0] ) = 1\n",
    "T( S[2], A[3], S[3] ) = 1\n",
    "\n",
    "T( S[3], A[0], S[1] ) = 1\n",
    "T( S[3], A[2], S[0] ) = 1\n"
   ]
  },
  {
   "cell_type": "code",
   "execution_count": null,
   "metadata": {},
   "outputs": [],
   "source": []
  },
  {
   "cell_type": "code",
   "execution_count": null,
   "metadata": {},
   "outputs": [],
   "source": []
  }
 ],
 "metadata": {
  "kernelspec": {
   "display_name": "Python 3",
   "language": "python",
   "name": "python3"
  },
  "language_info": {
   "codemirror_mode": {
    "name": "ipython",
    "version": 3
   },
   "file_extension": ".py",
   "mimetype": "text/x-python",
   "name": "python",
   "nbconvert_exporter": "python",
   "pygments_lexer": "ipython3",
   "version": "3.7.2"
  }
 },
 "nbformat": 4,
 "nbformat_minor": 2
}
