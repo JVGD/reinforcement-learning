{
 "cells": [
  {
   "cell_type": "markdown",
   "metadata": {},
   "source": [
    "# Policy iteration\n",
    "\n",
    "Policy Iteration (PI), Howard (1960), iterates between the policy evaluation phase, that computes the value function of the current policy, and the policy improvement phase, that computes an improved policy by a maximization over the value function. This is repeated until converging to an optimal policy.\n",
    "\n",
    "Consider grid below:\n",
    "\n",
    "![Example 4.1](images/example_4_1_sutton_barto.png)\n",
    "\n",
    "The nonterminal states are $S = {1, 2, . . . , 14}$. There are four actions possible in each state, $A = \\left\\{ \\textrm{up, down, right, left} \\right\\}$, which deterministically cause the corresponding state transitions, except that actions that would take the agent off the grid in fact leave the state unchanged. \n",
    "\n",
    "The reward is $−1$ on all transitions until the terminal state is reached. The terminal state is shaded in the figure (although it is shown in two places, it is formally one state). The expected reward function is thus $r(s, a, s') = −1$ for all states $s, s'$ and actions $a$."
   ]
  },
  {
   "cell_type": "code",
   "execution_count": 6,
   "metadata": {},
   "outputs": [],
   "source": [
    "# Importing\n",
    "import numpy as np\n",
    "import gym\n",
    "\n",
    "# Importing grid example as openAI gym\n",
    "import gym_gridworlds\n",
    "\n",
    "# Getting the environment that represent the example grid\n",
    "env = gym.make('Gridworld-v0')"
   ]
  },
  {
   "cell_type": "markdown",
   "metadata": {},
   "source": [
    "## Policy Evaluation\n",
    "\n",
    "TODO: Explain policy evaluation here"
   ]
  },
  {
   "cell_type": "markdown",
   "metadata": {},
   "source": [
    "## Policy Improvement\n",
    "\n",
    "TODO: Explain policy improvement here"
   ]
  },
  {
   "cell_type": "code",
   "execution_count": null,
   "metadata": {},
   "outputs": [],
   "source": []
  }
 ],
 "metadata": {
  "kernelspec": {
   "display_name": "Python 3",
   "language": "python",
   "name": "python3"
  },
  "language_info": {
   "codemirror_mode": {
    "name": "ipython",
    "version": 3
   },
   "file_extension": ".py",
   "mimetype": "text/x-python",
   "name": "python",
   "nbconvert_exporter": "python",
   "pygments_lexer": "ipython3",
   "version": "3.7.2"
  }
 },
 "nbformat": 4,
 "nbformat_minor": 2
}
